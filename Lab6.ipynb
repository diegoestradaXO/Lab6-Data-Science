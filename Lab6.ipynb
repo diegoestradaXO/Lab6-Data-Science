{
  "nbformat": 4,
  "nbformat_minor": 0,
  "metadata": {
    "colab": {
      "name": "Lab6",
      "provenance": [],
      "mount_file_id": "1FTsw9NcGg3wLp17gpmsN2xLXVFHLWabQ",
      "authorship_tag": "ABX9TyP8SGhVUucnNiz6gmYGzI/H",
      "include_colab_link": true
    },
    "kernelspec": {
      "name": "python3",
      "display_name": "Python 3"
    },
    "language_info": {
      "name": "python"
    }
  },
  "cells": [
    {
      "cell_type": "markdown",
      "metadata": {
        "id": "view-in-github",
        "colab_type": "text"
      },
      "source": [
        "<a href=\"https://colab.research.google.com/github/diegoestradaXO/Lab6-Data-Science/blob/master/Lab6.ipynb\" target=\"_parent\"><img src=\"https://colab.research.google.com/assets/colab-badge.svg\" alt=\"Open In Colab\"/></a>"
      ]
    },
    {
      "cell_type": "markdown",
      "metadata": {
        "id": "KHSQB-4Fw_RE"
      },
      "source": [
        "# Laboratorio 6: Analítica de redes sociales\n",
        "## Autores\n",
        "- Saúl Contreras 18409\n",
        "- Andrea Elías 17048\n",
        "- Diego Estrada 18540"
      ]
    },
    {
      "cell_type": "code",
      "metadata": {
        "colab": {
          "base_uri": "https://localhost:8080/"
        },
        "id": "Tm8ZbOj5XM1e",
        "outputId": "8c8dedeb-beca-493e-92ec-77e2c9982b31"
      },
      "source": [
        "from google.colab import drive\n",
        "drive.mount('/content/drive')"
      ],
      "execution_count": 1,
      "outputs": [
        {
          "output_type": "stream",
          "name": "stdout",
          "text": [
            "Drive already mounted at /content/drive; to attempt to forcibly remount, call drive.mount(\"/content/drive\", force_remount=True).\n"
          ]
        }
      ]
    },
    {
      "cell_type": "code",
      "metadata": {
        "id": "wvDQLx4OXipS"
      },
      "source": [
        "import tweepy\n",
        "import csv\n",
        "import pandas as pd"
      ],
      "execution_count": 16,
      "outputs": []
    },
    {
      "cell_type": "markdown",
      "metadata": {
        "id": "tm1BVA_futDC"
      },
      "source": [
        "---\n",
        "## Prueba del API de Twitter con llaves de perfil de desarrollador\n"
      ]
    },
    {
      "cell_type": "code",
      "metadata": {
        "colab": {
          "base_uri": "https://localhost:8080/"
        },
        "id": "EmRrmAHTuAPI",
        "outputId": "317168e8-5561-4a26-a958-32ef8f5b431e"
      },
      "source": [
        "auth = tweepy.OAuthHandler('fxRDOaD9DYKj62uAwczglNevG', '0WSdq2MMgltglKb7eMxD7IyJGhT0POh9o4IuqUhPjPRLCYCYA5')\n",
        "auth.set_access_token('3171113016-1zypbezJcLEyQlM5x9P05CI9EtvSwZYueIBgTH2', '6Q3H0DSqqODFvRFK5HQpDhxZWoaSV1X4P1t2rCRBxB6oG')\n",
        "\n",
        "api = tweepy.API(auth, wait_on_rate_limit=True)\n",
        "\n",
        "public_tweets = api.home_timeline()\n",
        "for tweet in public_tweets:\n",
        "    print (tweet.text)\n"
      ],
      "execution_count": 5,
      "outputs": [
        {
          "output_type": "stream",
          "name": "stdout",
          "text": [
            "Nutella, anticonceptivos y ardillas: el error del siglo XIX que los ingleses siguen intentando solucionar en la act… https://t.co/sQfzNhWZ5S\n",
            "Buenos diaaaaaas! Feliz domingo! Me hago pis 🙃 \n",
            "\n",
            "https://t.co/iSNSTT4rdk\n",
            "Conozca su horóscopo del día, según su signo zodiacal: Aries, Tauro, Géminis, Cáncer, Leo, Virgo, Libra, Escorpio,… https://t.co/UNbnwt7u4O\n",
            "have you tried #地球グミ Earth Gummies? 🌏 share thisしなこ Shinako / ASMR video if you have. https://t.co/XnjlEX5rqT\n",
            "#EUCoronavirus El Ministerio de Salud Pública y Asistencia Social actualizó este sábado, 4 de septiembre, el Semáfo… https://t.co/Y1euhAOqI6\n",
            "#PorSiNoLoVio | El mes pasado fue el mes de junio más caluroso de la historia en Norteamérica, en el cual se batier… https://t.co/UgdjYHh1RK\n",
            "#PorSiNoLoVio | En la mayoría de los casos, los pies hinchados aparecen como consecuencia de llevar un estilo de vi… https://t.co/tQQHRuRWAg\n",
            "#PorSiNoLoVio | Cuando se habla del cuidado de las células de la piel, pocos productos de origen natural pueden igu… https://t.co/HsTX8Zysuc\n",
            "#EUCoronavirus La primera jornada de casa en casa se realizó en cuatro lugares: Villa Canales, San Miguel Petapa, V… https://t.co/P7kzSTOnKL\n",
            "Así se ven las calles de la capital la noche de este sábado 4 de septiembre, cuando el toque de queda lleva más de… https://t.co/Vm89NkARk2\n",
            "RT @noel_solis: Así lucen algunos puntos de la ciudad tras el toque de queda. ⁦@PublinewsGT⁩ ⁦@EmisorasUnidas⁩ https://t.co/1QgJ5VfMUk\n",
            "Con 3 horas y 10 minutos de retraso inició la sesión ordinaria 51 del Congreso de la República que tenía como objet… https://t.co/lsAwGhmv1N\n",
            "Por falta de quórum se levantó la sesión y se convocó para el domingo a las 10:00 horas, y así continuar conociendo… https://t.co/N2MrSheqfF\n",
            "RT @CKestler_GTV: El @CongresoGuate levanta la sesión por falta de quórum. \n",
            "\n",
            "Los diputados conocerán el estado de Calamidad en tres debates…\n",
            "@noel_solis @kmarroquin_eu Se levanta sesión por falta de quórum y se convoca para mañana a las 10:00 horas, para c… https://t.co/F0iBqBAXX0\n",
            "@noel_solis Con 56 votos en contra fue rechazada la moción privilegiada que presentó de manera verbal el diputado B… https://t.co/DZdueV7vlB\n",
            "RT @CKestler_GTV: Con 56 votos en contra, 54 a favor y 50 ausentes, el @CongresoGuate rechaza la moción del parlamentario @BArevalodeLeon.…\n",
            "Con 3 horas y 10 minutos de retraso inició la sesión ordinaria 51 del Congreso de la República que tenía como objet… https://t.co/0VoJBWNLwu\n",
            "Hasta mañana!!\n",
            "Recuerden @PaseoLaPlazaOK 7/10 estreno!! @Plateanet las entradas!! Mi unipersonal https://t.co/SHkm6QdvAA\n",
            "RT @CKestler_GTV: El diputado @BArevalodeLeon propone, mediante moción verbal, conocer el estado de Calamidad por urgencia nacional. https:…\n"
          ]
        }
      ]
    },
    {
      "cell_type": "markdown",
      "metadata": {
        "id": "r6ORh9C0w9-o"
      },
      "source": [
        "- - -\n",
        "## Descripción del problema\n",
        "_Extraiga los datos relacionados con el coviden Guatemala, puede utilizar cualquier red social, a la que  se  tenga  acceso,  y  pueden  extraerse  datos  de  varias.  Por  ejemplo  si  extrae  datos  de  twitter podría utilizar el hashtag #COVID19gt o #CoronavirusGT. Explore los datos que extraiga y descubra conocimiento, tendencias y elementos interesantes._\n",
        "\n"
      ]
    },
    {
      "cell_type": "markdown",
      "metadata": {
        "id": "1UydTIsHx6Vh"
      },
      "source": [
        "### Extracción de datos"
      ]
    },
    {
      "cell_type": "code",
      "metadata": {
        "id": "MvWwMeNxw9R8"
      },
      "source": [
        "#Se crea el archivo csv, si ya existe, se escribe en él.\n",
        "file = open('twitter_covid_gt.csv', 'a')\n",
        "\n",
        "writer = csv.writer(file)\n",
        "hashtags = ('#COVID19gt OR #CoronavirusGT OR #CuarentenaTotal OR #GuatemalaNoSeDetiene OR #Guatemala#COVID19 OR #CoronavirusGuatemala OR #QuedateEnCasaGT OR #COVID_19gt OR #Covid19gt OR #ToqueDeQuedaGT OR #PandemiaGT OR #DatosCovidGT OR #YoMeQuedoEnMiCasa OR #JuntosSaldremosAdelante')\n",
        "for tweet in tweepy.Cursor(api.user_timeline,id='GuatemalaGob', lang=\"es\").items():\n",
        "    temporal = tweet.text\n",
        "    #Limpieza de caracteres especiales\n",
        "    temporal = temporal.replace('á', 'a')\n",
        "    temporal = temporal.replace('é', 'e')\n",
        "    temporal = temporal.replace('í', 'i')\n",
        "    temporal = temporal.replace('ó', 'o')\n",
        "    temporal = temporal.replace('ú', 'u')\n",
        "    temporal = temporal.replace('Á', 'A')\n",
        "    temporal = temporal.replace('É', 'E')\n",
        "    temporal = temporal.replace('Í', 'I')\n",
        "    temporal = temporal.replace('Ó', 'O')\n",
        "    temporal = temporal.replace('Ú', 'U')\n",
        "    temporal = temporal.replace('ñ', 'n')\n",
        "    temporal = temporal.replace('Ñ', 'N')\n",
        "    temporal = temporal.replace('Ü', 'U')\n",
        "    temporal = temporal.replace('ü', 'u')\n",
        "    writer.writerow([tweet.created_at, temporal.encode('utf-8')])"
      ],
      "execution_count": 14,
      "outputs": []
    },
    {
      "cell_type": "markdown",
      "metadata": {
        "id": "alIkEfFk05Ym"
      },
      "source": [
        "### Carga de datos"
      ]
    },
    {
      "cell_type": "code",
      "metadata": {
        "id": "zKKJV9Nf07If"
      },
      "source": [
        "data = pd.read_csv('/content/twitter_covid_gt.csv')"
      ],
      "execution_count": 17,
      "outputs": []
    },
    {
      "cell_type": "markdown",
      "metadata": {
        "id": "yVtAhLS71d6S"
      },
      "source": [
        "### Limpieza y preprocesamiento"
      ]
    },
    {
      "cell_type": "code",
      "metadata": {
        "id": "uaAW6e5m1gve"
      },
      "source": [
        "def remove_characters(text):\n",
        "  return text.translate(text.maketrans('', '', string.punctuation))\n",
        "\n",
        "def remove_url(text):\n",
        "    return re.sub(r'^https?:\\/\\/.*[\\r\\n]*', '', text, flags=re.MULTILINE)\n",
        "\n",
        "def remove_num(text):\n",
        "    return re.sub('^\\d+\\s|\\s\\d+\\s|\\s\\d+$','',text)"
      ],
      "execution_count": 19,
      "outputs": []
    },
    {
      "cell_type": "markdown",
      "metadata": {
        "id": "y22OMPTK3II9"
      },
      "source": [
        "Insalación de librería emoji"
      ]
    },
    {
      "cell_type": "code",
      "metadata": {
        "colab": {
          "base_uri": "https://localhost:8080/"
        },
        "id": "VP2UVHUt3E9T",
        "outputId": "61e8814e-8f18-480d-811d-0eb09499fd40"
      },
      "source": [
        "!pip install emoji"
      ],
      "execution_count": 20,
      "outputs": [
        {
          "output_type": "stream",
          "name": "stdout",
          "text": [
            "Collecting emoji\n",
            "  Downloading emoji-1.4.2.tar.gz (184 kB)\n",
            "\u001b[K     |████████████████████████████████| 184 kB 3.2 MB/s \n",
            "\u001b[?25hBuilding wheels for collected packages: emoji\n",
            "  Building wheel for emoji (setup.py) ... \u001b[?25l\u001b[?25hdone\n",
            "  Created wheel for emoji: filename=emoji-1.4.2-py3-none-any.whl size=186469 sha256=548598e3b5d07fd499ecc41f7c273758d1c6b525669fd2cc1e965b4ec4da6a1f\n",
            "  Stored in directory: /root/.cache/pip/wheels/e4/61/e7/2fc1ac8f306848fc66c6c013ab511f0a39ef4b1825b11363b2\n",
            "Successfully built emoji\n",
            "Installing collected packages: emoji\n",
            "Successfully installed emoji-1.4.2\n"
          ]
        }
      ]
    }
  ]
}